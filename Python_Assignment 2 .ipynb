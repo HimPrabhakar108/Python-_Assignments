{
 "cells": [
  {
   "cell_type": "markdown",
   "id": "93fd9220",
   "metadata": {},
   "source": [
    "# Write a Python program to remove duplicates from a list."
   ]
  },
  {
   "cell_type": "code",
   "execution_count": 20,
   "id": "3bd24d9e",
   "metadata": {},
   "outputs": [
    {
     "name": "stdout",
     "output_type": "stream",
     "text": [
      "[2, 4, 10, 20, 5]\n"
     ]
    }
   ],
   "source": [
    "def Remov(duplicate):\n",
    "    final_list = []\n",
    "    for num in duplicate:\n",
    "        if num not in final_list:\n",
    "            final_list.append(num)\n",
    "    return final_list\n",
    "\n",
    "\n",
    "duplicate = [2, 4, 10, 20, 5, 2, 20, 4]\n",
    "print(Remov(duplicate))"
   ]
  },
  {
   "cell_type": "markdown",
   "id": "cee897f9",
   "metadata": {},
   "source": [
    "# Write a Python program to combine two dictionary adding values for common keys¶\n",
    " # d1 = {'a': 100, 'b': 200, 'c':300}¶\n",
    "# d2 = {'a': 300, 'b': 200, 'd':400}¶\n",
    "# Sample output: Counter({'a': 400, 'b': 400, 'd': 400, 'c': 300})"
   ]
  },
  {
   "cell_type": "code",
   "execution_count": 19,
   "id": "b55fdd95",
   "metadata": {},
   "outputs": [
    {
     "name": "stdout",
     "output_type": "stream",
     "text": [
      "{'a': 400, 'b': 400, 'c': 300, 'd': 400}\n"
     ]
    }
   ],
   "source": [
    "d1 = {'a': 100, 'b': 200, 'c':300}\n",
    "\n",
    "d2 = {'a': 300, 'b': 200, 'd':400}\n",
    "\n",
    "d3 = dict(d1) \n",
    "\n",
    "d3.update(d2) \n",
    "\n",
    "for i, j in d1.items():\n",
    "\n",
    "    for x, y in d2.items():\n",
    "\n",
    "        if i == x:\n",
    "\n",
    "            d3[i]=(j+y)\n",
    "\n",
    "print(d3)"
   ]
  },
  {
   "cell_type": "markdown",
   "id": "86c9981f",
   "metadata": {},
   "source": [
    "# Write a Python program to convert a tuple to a string."
   ]
  },
  {
   "cell_type": "code",
   "execution_count": 10,
   "id": "c3cf3e66",
   "metadata": {},
   "outputs": [
    {
     "name": "stdout",
     "output_type": "stream",
     "text": [
      "PythonProgram\n"
     ]
    }
   ],
   "source": [
    "tup = ('P', 'y', 't', 'h', 'o', 'n','P','r','o','g','r','a','m')\n",
    "str =  ''.join(tup)\n",
    "print(str)"
   ]
  },
  {
   "cell_type": "markdown",
   "id": "d9548183",
   "metadata": {},
   "source": [
    "# Write a Python program to remove item(s) from set"
   ]
  },
  {
   "cell_type": "code",
   "execution_count": 22,
   "id": "823c74ab",
   "metadata": {},
   "outputs": [
    {
     "name": "stdout",
     "output_type": "stream",
     "text": [
      "set:\n",
      "{0, 1, 3, 4, 5}\n",
      "\n",
      " After removing the first element from the set:\n",
      "{1, 3, 4, 5}\n"
     ]
    }
   ],
   "source": [
    "numberset = set([0, 1, 3, 4, 5])\n",
    "print(\"set:\")\n",
    "print(numberset)\n",
    "numberset.pop()\n",
    "print(\"\\n After removing the first element from the set:\")\n",
    "print(numberset)"
   ]
  },
  {
   "cell_type": "markdown",
   "id": "d7077529",
   "metadata": {},
   "source": [
    "# Write a Python program to create a symmetric difference."
   ]
  },
  {
   "cell_type": "code",
   "execution_count": 23,
   "id": "a1ccbb38",
   "metadata": {},
   "outputs": [
    {
     "name": "stdout",
     "output_type": "stream",
     "text": [
      "\n",
      "sets:\n",
      "{1, 2, 3, 4, 5}\n",
      "{1, 5, 6, 7, 8, 9}\n",
      "\n",
      "Symmetric difference of set1 - set2:\n",
      "{2, 3, 4, 6, 7, 8, 9}\n",
      "\n",
      "Symmetric difference of set2 - set1:\n",
      "{2, 3, 4, 6, 7, 8, 9}\n"
     ]
    }
   ],
   "source": [
    "set1 = set([1, 1, 2, 3, 4, 5])\n",
    "set2 = set([1, 5, 6, 7, 8, 9])\n",
    "print(\"\\nsets:\")\n",
    "print(set1)\n",
    "print(set2)\n",
    "r1 = set1.symmetric_difference(set2)\n",
    "print(\"\\nSymmetric difference of set1 - set2:\")\n",
    "print(r1)\n",
    "r2 = set2.symmetric_difference(set1)\n",
    "print(\"\\nSymmetric difference of set2 - set1:\")\n",
    "print(r2)"
   ]
  },
  {
   "cell_type": "markdown",
   "id": "8716f7f9",
   "metadata": {},
   "source": [
    "# Write a Python program to construct the following pattern, using a nested for loop."
   ]
  },
  {
   "cell_type": "code",
   "execution_count": 6,
   "id": "f5055829",
   "metadata": {},
   "outputs": [
    {
     "name": "stdout",
     "output_type": "stream",
     "text": [
      "\n",
      "* \n",
      "* * \n",
      "* * * \n",
      "* * * * \n",
      "* * * * * \n",
      "* * * * \n",
      "* * * \n",
      "* * \n",
      "* \n"
     ]
    }
   ],
   "source": [
    "n=5;\n",
    "for i in range(n):\n",
    "    for j in range(i):\n",
    "        print ('* ', end=\"\")\n",
    "    print('')\n",
    "\n",
    "for i in range(n,0,-1):\n",
    "    for j in range(i):\n",
    "        print('* ', end=\"\")\n",
    "    print('')\n"
   ]
  },
  {
   "cell_type": "code",
   "execution_count": null,
   "id": "c46add75",
   "metadata": {},
   "outputs": [],
   "source": []
  }
 ],
 "metadata": {
  "kernelspec": {
   "display_name": "Python 3",
   "language": "python",
   "name": "python3"
  },
  "language_info": {
   "codemirror_mode": {
    "name": "ipython",
    "version": 3
   },
   "file_extension": ".py",
   "mimetype": "text/x-python",
   "name": "python",
   "nbconvert_exporter": "python",
   "pygments_lexer": "ipython3",
   "version": "3.8.8"
  }
 },
 "nbformat": 4,
 "nbformat_minor": 5
}
