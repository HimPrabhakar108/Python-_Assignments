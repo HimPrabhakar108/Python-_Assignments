{
 "cells": [
  {
   "cell_type": "markdown",
   "id": "4016d07f",
   "metadata": {},
   "source": [
    "# Write a program which will find all such numbers which are divisible by 7 but are not a multiple of 5, between 2000 and 3200 (both included).The numbers obtained should be printed in a comma-separated sequence on a single line.\n",
    "\n",
    "# Hint By Using generators and list comprehension"
   ]
  },
  {
   "cell_type": "code",
   "execution_count": null,
   "id": "f29822b1",
   "metadata": {},
   "outputs": [],
   "source": [
    "num1 = int(input(\"First number \"))\n",
    "  \n",
    "num2 = int(input(\"Last number \"))\n",
    "  \n",
    "s = num1\n",
    "  \n",
    "while s <= num2:\n",
    "    \n",
    "    if s % 7 == 0 and s % 5 != 0:\n",
    "        print(s)\n",
    "        \n",
    "    s += 1"
   ]
  },
  {
   "cell_type": "markdown",
   "id": "854a7430",
   "metadata": {},
   "source": [
    "#   With a given integral number n, write a program to generate a dictionary that contains (i, i x i) such that is an integral number between 1 and n (both included). and then the program should print the dictionary.Suppose the following input is supplied to the program: 12\n",
    "\n",
    "# Hint by using dictionary comprehension\n",
    "\n",
    "# then the output should be {1: 1, 2: 4, 3: 9, 4: 16, 5: 25, 6: 36, 7: 49, 8: 64, 9: 81, 10: 100, 11: 121, 12: 144}"
   ]
  },
  {
   "cell_type": "code",
   "execution_count": 4,
   "id": "18f50afa",
   "metadata": {},
   "outputs": [
    {
     "name": "stdout",
     "output_type": "stream",
     "text": [
      "Enter the value of n: 9\n",
      "{1: 1, 2: 4, 3: 9, 4: 16, 5: 25, 6: 36, 7: 49, 8: 64, 9: 81}\n"
     ]
    }
   ],
   "source": [
    "n = int(input(\"Enter the value of n: \"))\n",
    "\n",
    "\n",
    "squares = {i : i*i for i in range(1, n+1)}\n",
    "\n",
    "\n",
    "print(squares)"
   ]
  },
  {
   "cell_type": "markdown",
   "id": "13f449c5",
   "metadata": {},
   "source": [
    "# Define a class which has at least two methods:\n",
    "\n",
    "# getString: to get a string from console input\n",
    "\n",
    "# printString: to print the string in upper case.\n",
    "\n",
    "# Also please include simple test function to test the class methods.\n",
    "\n",
    "# Hints:Use init method to construct some parameters"
   ]
  },
  {
   "cell_type": "code",
   "execution_count": 5,
   "id": "67e92e09",
   "metadata": {},
   "outputs": [
    {
     "name": "stdout",
     "output_type": "stream",
     "text": [
      "hi! how r u\n",
      "HI! HOW R U\n"
     ]
    }
   ],
   "source": [
    "class String:\n",
    "    def __init__(self):\n",
    "        self.s = \"\"\n",
    "\n",
    "    def getString(self):\n",
    "        self.s = input()\n",
    "\n",
    "    def printString(self):\n",
    "        print(self.s.upper())\n",
    "\n",
    "Obj = String()\n",
    "Obj.getString()\n",
    "Obj.printString()"
   ]
  },
  {
   "cell_type": "markdown",
   "id": "e0b6e60d",
   "metadata": {},
   "source": [
    "# Define a class, which have a class parameter and have a same instance parameter.\n",
    "\n",
    "# Hint : Define an instance parameter, need add it in init method.You can init an object with construct parameter or set the value later"
   ]
  },
  {
   "cell_type": "code",
   "execution_count": 21,
   "id": "c72e0a75",
   "metadata": {},
   "outputs": [
    {
     "name": "stdout",
     "output_type": "stream",
     "text": [
      "Name: Rudra\n",
      "Name: Eternal\n"
     ]
    }
   ],
   "source": [
    "\n",
    "class Person:\n",
    "    \n",
    "    name = \"Name:\"\n",
    "    \n",
    "    def __init__(self, name = None):\n",
    "        \n",
    "        self.name = name\n",
    "\n",
    "man1 = Person(\"Rudra\")\n",
    "print(Person.name, man1.name)\n",
    "\n",
    "man2 = Person()\n",
    "man2.name = \"Eternal\"\n",
    "print(Person.name, man2.name)"
   ]
  },
  {
   "cell_type": "markdown",
   "id": "35c23025",
   "metadata": {},
   "source": [
    "# Write a Python class to convert an integer to a roman numeral. "
   ]
  },
  {
   "cell_type": "code",
   "execution_count": 22,
   "id": "b93fe4b8",
   "metadata": {},
   "outputs": [
    {
     "name": "stdout",
     "output_type": "stream",
     "text": [
      "Enter a number: 999\n",
      "CMXCIX"
     ]
    }
   ],
   "source": [
    "roman = { 1: 'I', 4: 'IV', 5: 'V', 9: 'IX', 10: 'X', 40: 'XL',\n",
    "              50: 'L', 90: 'XC', 100: 'C', 400: 'XD', 500: 'D', 900: 'CM', 1000: 'M'}\n",
    "s = int(input(\"Enter a number: \"))\n",
    "\n",
    "order = [1000, 900, 500, 400, 100, 90, 50, 40, 10, 9, 5, 4, 1]\n",
    "\n",
    "for x in order:\n",
    "    if s != 0:\n",
    "        quotient= s//x\n",
    "\n",
    "        if quotient != 0:\n",
    "            for y in range(quotient):\n",
    "                print(roman[x], end=\"\")\n",
    "        s = s%x"
   ]
  },
  {
   "cell_type": "code",
   "execution_count": null,
   "id": "36c636d3",
   "metadata": {},
   "outputs": [],
   "source": []
  }
 ],
 "metadata": {
  "kernelspec": {
   "display_name": "Python 3",
   "language": "python",
   "name": "python3"
  },
  "language_info": {
   "codemirror_mode": {
    "name": "ipython",
    "version": 3
   },
   "file_extension": ".py",
   "mimetype": "text/x-python",
   "name": "python",
   "nbconvert_exporter": "python",
   "pygments_lexer": "ipython3",
   "version": "3.8.8"
  }
 },
 "nbformat": 4,
 "nbformat_minor": 5
}
