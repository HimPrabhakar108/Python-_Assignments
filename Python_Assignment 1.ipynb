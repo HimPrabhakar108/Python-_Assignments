{
 "cells": [
  {
   "cell_type": "markdown",
   "id": "66f93e26",
   "metadata": {},
   "source": [
    "# Write code that uses iteration to print out the length of each element of the list stored in list.\n",
    " # list = [\"hello\", \"\", \"goodbye\", \"wonderful"
   ]
  },
  {
   "cell_type": "markdown",
   "id": "f3a4d6bf",
   "metadata": {},
   "source": [
    "# Write code that uses iteration to print out the length of each element of the list stored in list.\n",
    " # list = [\"hello\", \"\", \"goodbye\", \"wonderful\", \"I love Python\"]"
   ]
  },
  {
   "cell_type": "code",
   "execution_count": 2,
   "id": "8e3056b9",
   "metadata": {},
   "outputs": [
    {
     "name": "stdout",
     "output_type": "stream",
     "text": [
      "4\n",
      "0\n",
      "6\n",
      "7\n",
      "13\n"
     ]
    }
   ],
   "source": [
    "li=[\"shiv\",\"\",\"python\",\"chandra\",\"i love python\"]\n",
    "for i in range(len(li)):\n",
    "    print(len(li[i]))"
   ]
  },
  {
   "cell_type": "markdown",
   "id": "6e0f6dfc",
   "metadata": {},
   "source": [
    "#  Write a Python program to count and display the vowels of a given text."
   ]
  },
  {
   "cell_type": "code",
   "execution_count": 3,
   "id": "4f57deb0",
   "metadata": {},
   "outputs": [
    {
     "name": "stdout",
     "output_type": "stream",
     "text": [
      "9\n",
      "['a', 'o', 'u', 'i', 'o', 'o', 'i', 'o', 'e']\n"
     ]
    }
   ],
   "source": [
    "def vowel(text):\n",
    "    vowels = \"aeiuoAEIOU\"\n",
    "    print(len([letter for letter in text if letter in vowels]))\n",
    "    print([letter for letter in text if letter in vowels])\n",
    "vowel('anconfusiongoinggone');"
   ]
  },
  {
   "cell_type": "markdown",
   "id": "1501f7bf",
   "metadata": {},
   "source": [
    "# Write code to create a list of numbers from 0 to 88 and assign that list to the variable nums. Do not hard code the list.¶"
   ]
  },
  {
   "cell_type": "code",
   "execution_count": 4,
   "id": "7dd18f6e",
   "metadata": {},
   "outputs": [
    {
     "name": "stdout",
     "output_type": "stream",
     "text": [
      "[0, 1, 2, 3, 4, 5, 6, 7, 8, 9, 10, 11, 12, 13, 14, 15, 16, 17, 18, 19, 20, 21, 22, 23, 24, 25, 26, 27, 28, 29, 30, 31, 32, 33, 34, 35, 36, 37, 38, 39, 40, 41, 42, 43, 44, 45, 46, 47, 48, 49, 50, 51, 52, 53, 54, 55, 56, 57, 58, 59, 60, 61, 62, 63, 64, 65, 66, 67, 68, 69, 70, 71, 72, 73, 74, 75, 76, 77, 78, 79, 80, 81, 82, 83, 84, 85, 86, 87]\n"
     ]
    }
   ],
   "source": [
    "number=list(range(0,88))\n",
    "print(number)"
   ]
  },
  {
   "cell_type": "markdown",
   "id": "0f75c232",
   "metadata": {},
   "source": [
    "# Addition is a string with a list of numbers separated by the + sign. Write code that uses the accumulation pattern to take the sum of all of the numbers and assigns it to sum_val (an integer). (You should use the .split(\"+\") function to split by \"+\" and int() to cast to an integer)\n",
    "\n",
    "# Addition = \"2+5+10+20\""
   ]
  },
  {
   "cell_type": "code",
   "execution_count": 14,
   "id": "9a1aacce",
   "metadata": {},
   "outputs": [
    {
     "name": "stdout",
     "output_type": "stream",
     "text": [
      "37\n"
     ]
    }
   ],
   "source": [
    "addition_str = \"2+5+10+20\"\n",
    "su = addition_str.split('+')\n",
    "\n",
    "sum_val = 0\n",
    "for i in su:\n",
    "    sum_val = sum_val + int(i)\n",
    "\n",
    "print(sum_val)"
   ]
  },
  {
   "cell_type": "markdown",
   "id": "f3996532",
   "metadata": {},
   "source": [
    "# Write a Python program to find the volume of a sphere with diameter 12 cm.\n",
    "# Formula: V=4/3 * π * r 3"
   ]
  },
  {
   "cell_type": "code",
   "execution_count": 15,
   "id": "8b2cc35b",
   "metadata": {},
   "outputs": [
    {
     "name": "stdout",
     "output_type": "stream",
     "text": [
      "The volume of the sphere 7234.559999999999\n"
     ]
    }
   ],
   "source": [
    "pi=3.14\n",
    "r=12.0\n",
    "v=4/3*pi*r*r*r\n",
    "print(\"The volume of the sphere\",v)"
   ]
  },
  {
   "cell_type": "code",
   "execution_count": null,
   "id": "7d14d2e2",
   "metadata": {},
   "outputs": [],
   "source": []
  }
 ],
 "metadata": {
  "kernelspec": {
   "display_name": "Python 3",
   "language": "python",
   "name": "python3"
  },
  "language_info": {
   "codemirror_mode": {
    "name": "ipython",
    "version": 3
   },
   "file_extension": ".py",
   "mimetype": "text/x-python",
   "name": "python",
   "nbconvert_exporter": "python",
   "pygments_lexer": "ipython3",
   "version": "3.8.8"
  }
 },
 "nbformat": 4,
 "nbformat_minor": 5
}
